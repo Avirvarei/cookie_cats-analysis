{
 "cells": [
  {
   "cell_type": "code",
   "execution_count": 76,
   "id": "db14ca44-45ce-42ac-bf25-97f7f75eedcf",
   "metadata": {},
   "outputs": [],
   "source": [
    "import time\n",
    "import pandas as pd\n",
    "import numpy as np"
   ]
  },
  {
   "cell_type": "code",
   "execution_count": 72,
   "id": "6adb72e4-29a3-48d1-bb25-f5881e304381",
   "metadata": {},
   "outputs": [
    {
     "name": "stdout",
     "output_type": "stream",
     "text": [
      "<class 'pandas.core.frame.DataFrame'>\n",
      "RangeIndex: 90189 entries, 0 to 90188\n",
      "Data columns (total 5 columns):\n",
      " #   Column          Non-Null Count  Dtype \n",
      "---  ------          --------------  ----- \n",
      " 0   userid          90189 non-null  int64 \n",
      " 1   version         90189 non-null  object\n",
      " 2   sum_gamerounds  90189 non-null  int64 \n",
      " 3   retention_1     90189 non-null  bool  \n",
      " 4   retention_7     90189 non-null  bool  \n",
      "dtypes: bool(2), int64(2), object(1)\n",
      "memory usage: 2.2+ MB\n"
     ]
    }
   ],
   "source": [
    "df = pd.read_csv('C:\\\\Users\\Avi\\\\Downloads\\\\cookie_cats.csv')\n",
    "df.info()"
   ]
  },
  {
   "cell_type": "markdown",
   "id": "b8528773-262a-471c-b744-e7efc3d21325",
   "metadata": {
    "jp-MarkdownHeadingCollapsed": true,
    "tags": []
   },
   "source": [
    "## Get version data %"
   ]
  },
  {
   "cell_type": "code",
   "execution_count": 11,
   "id": "10f51dea-2f00-4a1e-a83b-455a939b57a2",
   "metadata": {},
   "outputs": [
    {
     "data": {
      "text/html": [
       "<div>\n",
       "<style scoped>\n",
       "    .dataframe tbody tr th:only-of-type {\n",
       "        vertical-align: middle;\n",
       "    }\n",
       "\n",
       "    .dataframe tbody tr th {\n",
       "        vertical-align: top;\n",
       "    }\n",
       "\n",
       "    .dataframe thead th {\n",
       "        text-align: right;\n",
       "    }\n",
       "</style>\n",
       "<table border=\"1\" class=\"dataframe\">\n",
       "  <thead>\n",
       "    <tr style=\"text-align: right;\">\n",
       "      <th></th>\n",
       "      <th>userid</th>\n",
       "      <th>version</th>\n",
       "      <th>sum_gamerounds</th>\n",
       "      <th>retention_1</th>\n",
       "      <th>retention_7</th>\n",
       "    </tr>\n",
       "  </thead>\n",
       "  <tbody>\n",
       "    <tr>\n",
       "      <th>0</th>\n",
       "      <td>116</td>\n",
       "      <td>gate_30</td>\n",
       "      <td>3</td>\n",
       "      <td>False</td>\n",
       "      <td>False</td>\n",
       "    </tr>\n",
       "    <tr>\n",
       "      <th>2</th>\n",
       "      <td>377</td>\n",
       "      <td>gate_40</td>\n",
       "      <td>165</td>\n",
       "      <td>True</td>\n",
       "      <td>False</td>\n",
       "    </tr>\n",
       "  </tbody>\n",
       "</table>\n",
       "</div>"
      ],
      "text/plain": [
       "   userid  version  sum_gamerounds  retention_1  retention_7\n",
       "0     116  gate_30               3        False        False\n",
       "2     377  gate_40             165         True        False"
      ]
     },
     "execution_count": 11,
     "metadata": {},
     "output_type": "execute_result"
    }
   ],
   "source": [
    "df.drop_duplicates(subset = 'version')"
   ]
  },
  {
   "cell_type": "code",
   "execution_count": 43,
   "id": "f75a10fc-9fea-4181-9f3e-51031da75b42",
   "metadata": {},
   "outputs": [],
   "source": [
    "version = df['version'].value_counts()"
   ]
  },
  {
   "cell_type": "code",
   "execution_count": 41,
   "id": "2f674219-2420-4b5a-99f9-0b63b4ecb013",
   "metadata": {
    "tags": []
   },
   "outputs": [],
   "source": [
    "version_total = df.count()"
   ]
  },
  {
   "cell_type": "code",
   "execution_count": 46,
   "id": "f38fa421-38c0-47c7-b1ad-d5ea7c5a8116",
   "metadata": {},
   "outputs": [],
   "source": [
    "version_total = version_total['version']"
   ]
  },
  {
   "cell_type": "code",
   "execution_count": 62,
   "id": "8d0c8303-117a-4fe4-8723-d189ece79401",
   "metadata": {},
   "outputs": [],
   "source": [
    "percentage = round(((version/version_total) * 100),1)"
   ]
  },
  {
   "cell_type": "code",
   "execution_count": 63,
   "id": "16d434ab-3c09-47dc-8f6a-2e521f280c29",
   "metadata": {},
   "outputs": [
    {
     "data": {
      "text/plain": [
       "gate_40    50.4\n",
       "gate_30    49.6\n",
       "Name: version, dtype: float64"
      ]
     },
     "execution_count": 63,
     "metadata": {},
     "output_type": "execute_result"
    }
   ],
   "source": [
    "percentage"
   ]
  },
  {
   "cell_type": "markdown",
   "id": "9d1c5492-ee1b-4a43-9e12-bb5e6a758a86",
   "metadata": {
    "jp-MarkdownHeadingCollapsed": true,
    "tags": []
   },
   "source": [
    "## Check % of sum_gamerounds based on game version"
   ]
  },
  {
   "cell_type": "code",
   "execution_count": 79,
   "id": "914f7df0-8a7f-4f5d-a4b5-1080a3916bd2",
   "metadata": {},
   "outputs": [],
   "source": [
    "total_sum_gr = df['sum_gamerounds'].sum()"
   ]
  },
  {
   "cell_type": "code",
   "execution_count": 81,
   "id": "04fb9adc-d011-46b9-a1f7-3a2273cc7ce3",
   "metadata": {},
   "outputs": [
    {
     "data": {
      "text/html": [
       "<div>\n",
       "<style scoped>\n",
       "    .dataframe tbody tr th:only-of-type {\n",
       "        vertical-align: middle;\n",
       "    }\n",
       "\n",
       "    .dataframe tbody tr th {\n",
       "        vertical-align: top;\n",
       "    }\n",
       "\n",
       "    .dataframe thead th {\n",
       "        text-align: right;\n",
       "    }\n",
       "</style>\n",
       "<table border=\"1\" class=\"dataframe\">\n",
       "  <thead>\n",
       "    <tr style=\"text-align: right;\">\n",
       "      <th></th>\n",
       "      <th>sum_gamerounds</th>\n",
       "    </tr>\n",
       "    <tr>\n",
       "      <th>version</th>\n",
       "      <th></th>\n",
       "    </tr>\n",
       "  </thead>\n",
       "  <tbody>\n",
       "    <tr>\n",
       "      <th>gate_30</th>\n",
       "      <td>50.120396</td>\n",
       "    </tr>\n",
       "    <tr>\n",
       "      <th>gate_40</th>\n",
       "      <td>49.879604</td>\n",
       "    </tr>\n",
       "  </tbody>\n",
       "</table>\n",
       "</div>"
      ],
      "text/plain": [
       "         sum_gamerounds\n",
       "version                \n",
       "gate_30       50.120396\n",
       "gate_40       49.879604"
      ]
     },
     "execution_count": 81,
     "metadata": {},
     "output_type": "execute_result"
    }
   ],
   "source": [
    "df.groupby('version').mean()\n",
    "(df.pivot_table(index = 'version',  values = 'sum_gamerounds', aggfunc = np.sum) / total_sum_gr) * 100"
   ]
  }
 ],
 "metadata": {
  "kernelspec": {
   "display_name": "Python 3",
   "language": "python",
   "name": "python3"
  },
  "language_info": {
   "codemirror_mode": {
    "name": "ipython",
    "version": 3
   },
   "file_extension": ".py",
   "mimetype": "text/x-python",
   "name": "python",
   "nbconvert_exporter": "python",
   "pygments_lexer": "ipython3",
   "version": "3.6.4"
  }
 },
 "nbformat": 4,
 "nbformat_minor": 5
}
